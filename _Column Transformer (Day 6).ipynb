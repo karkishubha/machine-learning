{
 "cells": [
  {
   "cell_type": "code",
   "execution_count": 2,
   "id": "8658df1a",
   "metadata": {},
   "outputs": [],
   "source": [
    "import pandas as pd\n",
    "import numpy as np"
   ]
  },
  {
   "cell_type": "code",
   "execution_count": 3,
   "id": "c26b11ca",
   "metadata": {},
   "outputs": [],
   "source": [
    "df=pd.read_csv('covid_toy.csv')"
   ]
  },
  {
   "cell_type": "code",
   "execution_count": 4,
   "id": "e67d8f1d",
   "metadata": {},
   "outputs": [
    {
     "data": {
      "text/html": [
       "<div>\n",
       "<style scoped>\n",
       "    .dataframe tbody tr th:only-of-type {\n",
       "        vertical-align: middle;\n",
       "    }\n",
       "\n",
       "    .dataframe tbody tr th {\n",
       "        vertical-align: top;\n",
       "    }\n",
       "\n",
       "    .dataframe thead th {\n",
       "        text-align: right;\n",
       "    }\n",
       "</style>\n",
       "<table border=\"1\" class=\"dataframe\">\n",
       "  <thead>\n",
       "    <tr style=\"text-align: right;\">\n",
       "      <th></th>\n",
       "      <th>age</th>\n",
       "      <th>gender</th>\n",
       "      <th>fever</th>\n",
       "      <th>cough</th>\n",
       "      <th>city</th>\n",
       "      <th>has_covid</th>\n",
       "    </tr>\n",
       "  </thead>\n",
       "  <tbody>\n",
       "    <tr>\n",
       "      <th>0</th>\n",
       "      <td>60</td>\n",
       "      <td>Male</td>\n",
       "      <td>103.0</td>\n",
       "      <td>Mild</td>\n",
       "      <td>Kolkata</td>\n",
       "      <td>No</td>\n",
       "    </tr>\n",
       "    <tr>\n",
       "      <th>1</th>\n",
       "      <td>27</td>\n",
       "      <td>Male</td>\n",
       "      <td>100.0</td>\n",
       "      <td>Mild</td>\n",
       "      <td>Delhi</td>\n",
       "      <td>Yes</td>\n",
       "    </tr>\n",
       "    <tr>\n",
       "      <th>2</th>\n",
       "      <td>42</td>\n",
       "      <td>Male</td>\n",
       "      <td>101.0</td>\n",
       "      <td>Mild</td>\n",
       "      <td>Delhi</td>\n",
       "      <td>No</td>\n",
       "    </tr>\n",
       "    <tr>\n",
       "      <th>3</th>\n",
       "      <td>31</td>\n",
       "      <td>Female</td>\n",
       "      <td>98.0</td>\n",
       "      <td>Mild</td>\n",
       "      <td>Kolkata</td>\n",
       "      <td>No</td>\n",
       "    </tr>\n",
       "    <tr>\n",
       "      <th>4</th>\n",
       "      <td>65</td>\n",
       "      <td>Female</td>\n",
       "      <td>101.0</td>\n",
       "      <td>Mild</td>\n",
       "      <td>Mumbai</td>\n",
       "      <td>No</td>\n",
       "    </tr>\n",
       "  </tbody>\n",
       "</table>\n",
       "</div>"
      ],
      "text/plain": [
       "   age  gender  fever cough     city has_covid\n",
       "0   60    Male  103.0  Mild  Kolkata        No\n",
       "1   27    Male  100.0  Mild    Delhi       Yes\n",
       "2   42    Male  101.0  Mild    Delhi        No\n",
       "3   31  Female   98.0  Mild  Kolkata        No\n",
       "4   65  Female  101.0  Mild   Mumbai        No"
      ]
     },
     "execution_count": 4,
     "metadata": {},
     "output_type": "execute_result"
    }
   ],
   "source": [
    "df.head()"
   ]
  },
  {
   "cell_type": "code",
   "execution_count": 5,
   "id": "584cb88b",
   "metadata": {},
   "outputs": [],
   "source": [
    "from sklearn.compose import ColumnTransformer"
   ]
  },
  {
   "cell_type": "code",
   "execution_count": 6,
   "id": "9c4ebaea",
   "metadata": {},
   "outputs": [
    {
     "data": {
      "text/plain": [
       "4"
      ]
     },
     "execution_count": 6,
     "metadata": {},
     "output_type": "execute_result"
    }
   ],
   "source": [
    "len(df.city.unique())"
   ]
  },
  {
   "cell_type": "code",
   "execution_count": 6,
   "id": "351ba48c",
   "metadata": {},
   "outputs": [],
   "source": [
    "from sklearn.preprocessing import OneHotEncoder"
   ]
  },
  {
   "cell_type": "code",
   "execution_count": 7,
   "id": "ffd66d72",
   "metadata": {},
   "outputs": [],
   "source": [
    "from sklearn.preprocessing import OrdinalEncoder"
   ]
  },
  {
   "cell_type": "code",
   "execution_count": 10,
   "id": "716bd21e",
   "metadata": {},
   "outputs": [],
   "source": [
    "from sklearn.impute import SimpleImputer"
   ]
  },
  {
   "cell_type": "code",
   "execution_count": 28,
   "id": "0a719741",
   "metadata": {},
   "outputs": [],
   "source": [
    "transformer=ColumnTransformer(transformers=[\n",
    "(\"tnf1\",SimpleImputer(),[\"fever\"]),\n",
    "('tnf2',OrdinalEncoder(categories=[[\"Mild\",\"Strong\"]]),[\"cough\"]),\n",
    "('tnf3',OneHotEncoder(sparse=False,drop=\"first\"),[\"gender\",'city'])\n",
    "\n",
    "], remainder=\"passthrough\")"
   ]
  },
  {
   "cell_type": "code",
   "execution_count": 21,
   "id": "496e0018",
   "metadata": {},
   "outputs": [],
   "source": [
    "from sklearn.model_selection import train_test_split\n",
    "X_train,X_test,y_train,y_test=train_test_split(df.drop('has_covid',axis=1),df.has_covid,test_size=0.2,random_state=0)"
   ]
  },
  {
   "cell_type": "code",
   "execution_count": 22,
   "id": "d0af46b1",
   "metadata": {},
   "outputs": [
    {
     "data": {
      "text/plain": [
       "((80, 5), (20, 5), (80,), (20,))"
      ]
     },
     "execution_count": 22,
     "metadata": {},
     "output_type": "execute_result"
    }
   ],
   "source": [
    "X_train.shape,X_test.shape,y_train.shape,y_test.shape"
   ]
  },
  {
   "cell_type": "code",
   "execution_count": 29,
   "id": "767d0a10",
   "metadata": {},
   "outputs": [
    {
     "name": "stderr",
     "output_type": "stream",
     "text": [
      "C:\\Users\\shubh\\AppData\\Local\\Programs\\Python\\Python310\\lib\\site-packages\\sklearn\\preprocessing\\_encoders.py:972: FutureWarning: `sparse` was renamed to `sparse_output` in version 1.2 and will be removed in 1.4. `sparse_output` is ignored unless you leave `sparse` to its default value.\n",
      "  warnings.warn(\n"
     ]
    },
    {
     "data": {
      "text/plain": [
       "array([[ 99.        ,   0.        ,   0.        ,   0.        ,\n",
       "          0.        ,   0.        ,  22.        ],\n",
       "       [104.        ,   1.        ,   0.        ,   0.        ,\n",
       "          0.        ,   0.        ,  56.        ],\n",
       "       [ 98.        ,   0.        ,   0.        ,   0.        ,\n",
       "          1.        ,   0.        ,  31.        ],\n",
       "       [104.        ,   1.        ,   0.        ,   1.        ,\n",
       "          0.        ,   0.        ,  75.        ],\n",
       "       [ 99.        ,   0.        ,   1.        ,   0.        ,\n",
       "          0.        ,   0.        ,  72.        ],\n",
       "       [ 99.        ,   1.        ,   1.        ,   0.        ,\n",
       "          0.        ,   0.        ,  66.        ],\n",
       "       [101.        ,   1.        ,   1.        ,   0.        ,\n",
       "          0.        ,   0.        ,  14.        ],\n",
       "       [ 98.        ,   1.        ,   0.        ,   0.        ,\n",
       "          1.        ,   0.        ,  10.        ],\n",
       "       [ 98.        ,   0.        ,   1.        ,   0.        ,\n",
       "          1.        ,   0.        ,  24.        ],\n",
       "       [100.        ,   0.        ,   1.        ,   0.        ,\n",
       "          0.        ,   0.        ,  80.        ],\n",
       "       [102.        ,   1.        ,   0.        ,   0.        ,\n",
       "          0.        ,   0.        ,  24.        ],\n",
       "       [ 99.        ,   0.        ,   0.        ,   0.        ,\n",
       "          0.        ,   1.        ,  14.        ],\n",
       "       [ 99.        ,   1.        ,   0.        ,   1.        ,\n",
       "          0.        ,   0.        ,  59.        ],\n",
       "       [104.        ,   1.        ,   0.        ,   0.        ,\n",
       "          1.        ,   0.        ,  54.        ],\n",
       "       [100.        ,   1.        ,   0.        ,   0.        ,\n",
       "          1.        ,   0.        ,  11.        ],\n",
       "       [102.        ,   1.        ,   0.        ,   1.        ,\n",
       "          0.        ,   0.        ,  33.        ],\n",
       "       [ 98.        ,   0.        ,   0.        ,   0.        ,\n",
       "          0.        ,   0.        ,  64.        ],\n",
       "       [100.91549296,   1.        ,   1.        ,   0.        ,\n",
       "          1.        ,   0.        ,  71.        ],\n",
       "       [100.        ,   0.        ,   1.        ,   0.        ,\n",
       "          0.        ,   0.        ,  10.        ],\n",
       "       [104.        ,   1.        ,   0.        ,   1.        ,\n",
       "          0.        ,   0.        ,  34.        ],\n",
       "       [100.        ,   0.        ,   1.        ,   1.        ,\n",
       "          0.        ,   0.        ,  27.        ],\n",
       "       [ 98.        ,   1.        ,   0.        ,   0.        ,\n",
       "          0.        ,   1.        ,  81.        ],\n",
       "       [100.        ,   0.        ,   1.        ,   1.        ,\n",
       "          0.        ,   0.        ,  27.        ],\n",
       "       [100.91549296,   0.        ,   1.        ,   0.        ,\n",
       "          1.        ,   0.        ,  82.        ],\n",
       "       [101.        ,   0.        ,   0.        ,   0.        ,\n",
       "          0.        ,   1.        ,  65.        ],\n",
       "       [103.        ,   1.        ,   1.        ,   0.        ,\n",
       "          1.        ,   0.        ,  70.        ],\n",
       "       [ 98.        ,   1.        ,   0.        ,   1.        ,\n",
       "          0.        ,   0.        ,  40.        ],\n",
       "       [102.        ,   0.        ,   0.        ,   1.        ,\n",
       "          0.        ,   0.        ,  49.        ],\n",
       "       [101.        ,   0.        ,   0.        ,   1.        ,\n",
       "          0.        ,   0.        ,  49.        ],\n",
       "       [100.91549296,   0.        ,   0.        ,   0.        ,\n",
       "          0.        ,   0.        ,  84.        ],\n",
       "       [100.91549296,   0.        ,   1.        ,   1.        ,\n",
       "          0.        ,   0.        ,  38.        ],\n",
       "       [104.        ,   0.        ,   0.        ,   0.        ,\n",
       "          1.        ,   0.        ,   6.        ],\n",
       "       [103.        ,   0.        ,   1.        ,   0.        ,\n",
       "          1.        ,   0.        ,  60.        ],\n",
       "       [102.        ,   0.        ,   1.        ,   0.        ,\n",
       "          0.        ,   1.        ,  74.        ],\n",
       "       [104.        ,   0.        ,   1.        ,   0.        ,\n",
       "          1.        ,   0.        ,  16.        ],\n",
       "       [101.        ,   0.        ,   1.        ,   1.        ,\n",
       "          0.        ,   0.        ,  19.        ],\n",
       "       [ 98.        ,   0.        ,   0.        ,   0.        ,\n",
       "          0.        ,   1.        ,  65.        ],\n",
       "       [102.        ,   1.        ,   0.        ,   0.        ,\n",
       "          0.        ,   0.        ,  82.        ],\n",
       "       [ 98.        ,   0.        ,   0.        ,   1.        ,\n",
       "          0.        ,   0.        ,  80.        ],\n",
       "       [100.        ,   1.        ,   0.        ,   0.        ,\n",
       "          0.        ,   0.        ,  47.        ],\n",
       "       [100.91549296,   0.        ,   0.        ,   1.        ,\n",
       "          0.        ,   0.        ,  75.        ],\n",
       "       [103.        ,   0.        ,   1.        ,   0.        ,\n",
       "          1.        ,   0.        ,  83.        ],\n",
       "       [104.        ,   0.        ,   1.        ,   0.        ,\n",
       "          1.        ,   0.        ,  51.        ],\n",
       "       [ 99.        ,   1.        ,   0.        ,   0.        ,\n",
       "          0.        ,   0.        ,  49.        ],\n",
       "       [103.        ,   0.        ,   0.        ,   0.        ,\n",
       "          1.        ,   0.        ,  48.        ],\n",
       "       [103.        ,   0.        ,   0.        ,   0.        ,\n",
       "          0.        ,   0.        ,  16.        ],\n",
       "       [101.        ,   1.        ,   0.        ,   1.        ,\n",
       "          0.        ,   0.        ,  34.        ],\n",
       "       [ 98.        ,   1.        ,   0.        ,   0.        ,\n",
       "          0.        ,   1.        ,  69.        ],\n",
       "       [104.        ,   0.        ,   1.        ,   0.        ,\n",
       "          0.        ,   0.        ,  51.        ],\n",
       "       [103.        ,   1.        ,   1.        ,   0.        ,\n",
       "          0.        ,   0.        ,  46.        ],\n",
       "       [100.91549296,   1.        ,   0.        ,   0.        ,\n",
       "          0.        ,   0.        ,  42.        ],\n",
       "       [100.91549296,   1.        ,   0.        ,   0.        ,\n",
       "          0.        ,   1.        ,  34.        ],\n",
       "       [104.        ,   0.        ,   1.        ,   0.        ,\n",
       "          0.        ,   1.        ,  44.        ],\n",
       "       [101.        ,   0.        ,   0.        ,   0.        ,\n",
       "          0.        ,   0.        ,  20.        ],\n",
       "       [ 98.        ,   1.        ,   0.        ,   0.        ,\n",
       "          0.        ,   1.        ,   5.        ],\n",
       "       [103.        ,   0.        ,   0.        ,   1.        ,\n",
       "          0.        ,   0.        ,  73.        ],\n",
       "       [ 98.        ,   1.        ,   1.        ,   0.        ,\n",
       "          0.        ,   0.        ,  12.        ],\n",
       "       [100.91549296,   1.        ,   1.        ,   0.        ,\n",
       "          1.        ,   0.        ,  79.        ],\n",
       "       [101.        ,   0.        ,   0.        ,   0.        ,\n",
       "          1.        ,   0.        ,  83.        ],\n",
       "       [101.        ,   0.        ,   0.        ,   0.        ,\n",
       "          1.        ,   0.        ,   8.        ],\n",
       "       [100.91549296,   0.        ,   1.        ,   0.        ,\n",
       "          0.        ,   1.        ,  23.        ],\n",
       "       [100.        ,   0.        ,   1.        ,   0.        ,\n",
       "          1.        ,   0.        ,  55.        ],\n",
       "       [ 99.        ,   0.        ,   1.        ,   1.        ,\n",
       "          0.        ,   0.        ,  65.        ],\n",
       "       [101.        ,   0.        ,   0.        ,   0.        ,\n",
       "          0.        ,   1.        ,  19.        ],\n",
       "       [103.        ,   0.        ,   0.        ,   0.        ,\n",
       "          1.        ,   0.        ,  50.        ],\n",
       "       [102.        ,   0.        ,   0.        ,   0.        ,\n",
       "          0.        ,   0.        ,  69.        ],\n",
       "       [ 98.        ,   1.        ,   1.        ,   0.        ,\n",
       "          0.        ,   1.        ,  23.        ],\n",
       "       [ 99.        ,   1.        ,   0.        ,   0.        ,\n",
       "          1.        ,   0.        ,  25.        ],\n",
       "       [100.        ,   0.        ,   0.        ,   0.        ,\n",
       "          1.        ,   0.        ,   5.        ],\n",
       "       [101.        ,   1.        ,   0.        ,   1.        ,\n",
       "          0.        ,   0.        ,  68.        ],\n",
       "       [101.        ,   1.        ,   1.        ,   0.        ,\n",
       "          0.        ,   0.        ,  47.        ],\n",
       "       [101.        ,   0.        ,   0.        ,   0.        ,\n",
       "          0.        ,   0.        ,  38.        ],\n",
       "       [ 98.        ,   0.        ,   1.        ,   0.        ,\n",
       "          0.        ,   0.        ,  73.        ],\n",
       "       [104.        ,   0.        ,   0.        ,   0.        ,\n",
       "          1.        ,   0.        ,  17.        ],\n",
       "       [101.        ,   0.        ,   0.        ,   1.        ,\n",
       "          0.        ,   0.        ,  64.        ],\n",
       "       [101.        ,   1.        ,   0.        ,   0.        ,\n",
       "          1.        ,   0.        ,  51.        ],\n",
       "       [ 99.        ,   0.        ,   1.        ,   0.        ,\n",
       "          0.        ,   0.        ,  65.        ],\n",
       "       [104.        ,   0.        ,   1.        ,   0.        ,\n",
       "          0.        ,   1.        ,  42.        ],\n",
       "       [104.        ,   0.        ,   0.        ,   0.        ,\n",
       "          0.        ,   0.        ,  18.        ],\n",
       "       [102.        ,   1.        ,   1.        ,   1.        ,\n",
       "          0.        ,   0.        ,  20.        ]])"
      ]
     },
     "execution_count": 29,
     "metadata": {},
     "output_type": "execute_result"
    }
   ],
   "source": [
    "transformer.fit_transform(X_train)"
   ]
  },
  {
   "cell_type": "code",
   "execution_count": 32,
   "id": "94c8c372",
   "metadata": {},
   "outputs": [
    {
     "name": "stderr",
     "output_type": "stream",
     "text": [
      "C:\\Users\\shubh\\AppData\\Local\\Programs\\Python\\Python310\\lib\\site-packages\\sklearn\\preprocessing\\_encoders.py:972: FutureWarning: `sparse` was renamed to `sparse_output` in version 1.2 and will be removed in 1.4. `sparse_output` is ignored unless you leave `sparse` to its default value.\n",
      "  warnings.warn(\n"
     ]
    }
   ],
   "source": [
    "new_df=transformer.fit_transform(X_train)"
   ]
  },
  {
   "cell_type": "code",
   "execution_count": 40,
   "id": "e3c02ad7",
   "metadata": {},
   "outputs": [
    {
     "data": {
      "text/plain": [
       "(80, 7)"
      ]
     },
     "execution_count": 40,
     "metadata": {},
     "output_type": "execute_result"
    }
   ],
   "source": [
    "new_df.shape"
   ]
  },
  {
   "cell_type": "code",
   "execution_count": 41,
   "id": "c0625453",
   "metadata": {},
   "outputs": [
    {
     "data": {
      "text/plain": [
       "Index(['age', 'gender', 'fever', 'cough', 'city', 'has_covid'], dtype='object')"
      ]
     },
     "execution_count": 41,
     "metadata": {},
     "output_type": "execute_result"
    }
   ],
   "source": [
    "df.columns"
   ]
  },
  {
   "cell_type": "code",
   "execution_count": 42,
   "id": "764d26c6",
   "metadata": {},
   "outputs": [
    {
     "data": {
      "text/plain": [
       "array(['Kolkata', 'Delhi', 'Mumbai', 'Bangalore'], dtype=object)"
      ]
     },
     "execution_count": 42,
     "metadata": {},
     "output_type": "execute_result"
    }
   ],
   "source": [
    "df.city.unique()"
   ]
  },
  {
   "cell_type": "code",
   "execution_count": null,
   "id": "4929e786",
   "metadata": {},
   "outputs": [],
   "source": []
  },
  {
   "cell_type": "code",
   "execution_count": null,
   "id": "d717683b",
   "metadata": {},
   "outputs": [],
   "source": []
  }
 ],
 "metadata": {
  "kernelspec": {
   "display_name": "Python 3 (ipykernel)",
   "language": "python",
   "name": "python3"
  },
  "language_info": {
   "codemirror_mode": {
    "name": "ipython",
    "version": 3
   },
   "file_extension": ".py",
   "mimetype": "text/x-python",
   "name": "python",
   "nbconvert_exporter": "python",
   "pygments_lexer": "ipython3",
   "version": "3.10.11"
  }
 },
 "nbformat": 4,
 "nbformat_minor": 5
}
